{
 "cells": [
  {
   "cell_type": "markdown",
   "metadata": {},
   "source": [
    "Except where otherwise noted, this content is Copyright (c) 2020, [RTE](https://www.rte-france.com) and licensed under a [CC-BY-4.0 license](https://creativecommons.org/licenses/by/4.0/). <img src=\"https://mirrors.creativecommons.org/presskit/buttons/80x15/png/by.png\" width=\"100px\">"
   ]
  },
  {
   "cell_type": "markdown",
   "metadata": {},
   "source": [
    "## What is a stochastic study ?\n",
    "When you want to simulate a network adequacy, you can perform a deterministic computation. That means you believe you won’t have too much fluky behavior in the future. If you perform adequacy for the next hour or day, it’s a good hypothesis. But if you simulate network for the next week, month or year, it’s sound curious.\n",
    "\n",
    "Are you sur wind will blow next week or sun will shines ? If not, you eolian or solar production could change. Can you warrant that no failure will occur on your network next month or next year ?\n",
    "\n",
    "Of course, we can not predict future with such precision. It’s why we use stochastic computation. Stochastic means there are fluky behavior in the physics we want simulate. An single simulation is quiet useless, if result can change due to little variation.\n",
    "\n",
    "The best solution could be to compute a *God function* which tell you for each input variation (solar production, line, consumptions) what is the adequacy result. Like that, Hadar has just to analyze function, its derivatives, min, max, etc to predict future. But this God function doesn’t exist, we just have an algorithm which tell us adequacy according to one fixed set of input data.\n",
    "\n",
    "It’s why we use Monte Carlo algorithm. Monte Carlo run many scenarios to analyze many different behavior. Scenario with more consumption in cities, less solar production, less coal production or one line deleted due to crash. By this method we recreate God function by sampling it with the Monte-Carlo method."
   ]
  },
  {
   "cell_type": "markdown",
   "metadata": {},
   "source": [
    "<img src=\"monte-carlo.png\">"
   ]
  },
  {
   "cell_type": "markdown",
   "metadata": {},
   "source": [
    "## Describe example"
   ]
  },
  {
   "cell_type": "markdown",
   "metadata": {},
   "source": [
    "We will reuse network seen in *Network Investment*. If you don't read this part, don't worry we just reuse network no more. It's look like"
   ]
  },
  {
   "cell_type": "markdown",
   "metadata": {},
   "source": [
    "<img src=\"figure.png\" width=\"70%\">"
   ]
  },
  {
   "cell_type": "markdown",
   "metadata": {},
   "source": [
    "We use data generated in the next topic [Workflow](https://www.hadar-simulator.org/tutorial?name=Workflow). Input data representes 10 scenarios with different load and eolien productions. There are also random faults for nuclear and gas. These 10 scenarios are unique. They are 10 random sampling on the *God function* to try to predict more widely network adequacy"
   ]
  },
  {
   "cell_type": "code",
   "execution_count": 1,
   "metadata": {},
   "outputs": [],
   "source": [
    "import hadar as hd\n",
    "import numpy as np"
   ]
  },
  {
   "cell_type": "code",
   "execution_count": 2,
   "metadata": {},
   "outputs": [],
   "source": [
    "def read_csv(name):\n",
    "    return np.genfromtxt('%s.csv' % name, delimiter=' ').T"
   ]
  },
  {
   "cell_type": "code",
   "execution_count": 3,
   "metadata": {},
   "outputs": [],
   "source": [
    "line = 2000\n",
    "study = hd.Study(['a', 'b', 'c', 'd'], horizon=168, nb_scn=10) \\\n",
    "    .add_on_node('a', data=hd.Consumption(name='load', cost=10**6, quantity=read_csv('load_A'))) \\\n",
    "    .add_on_node('a', data=hd.Production(name='gas', cost=80, quantity=read_csv('gas'))) \\\n",
    "    .add_link(src='a', dest='b', cost=5, quantity=line) \\\n",
    "\\\n",
    "    .add_on_node('b', data=hd.Consumption(name='load', cost=10**6, quantity=read_csv('load_B'))) \\\n",
    "    .add_link(src='b', dest='c', cost=5, quantity=line) \\\n",
    "\\\n",
    "    .add_on_node('c', data=hd.Production(name='nuclear', cost=50, quantity=read_csv('nuclear'))) \\\n",
    "    .add_link(src='c', dest='a', cost=5, quantity=line) \\\n",
    "    .add_link(src='c', dest='b', cost=10, quantity=line) \\\n",
    "    .add_link(src='c', dest='d', cost=10, quantity=line) \\\n",
    "\\\n",
    "    .add_on_node('d', data=hd.Consumption(name='load', cost=10**6, quantity=read_csv('load_D'))) \\\n",
    "    .add_on_node('d', data=hd.Production(name='eolien', cost=20, quantity=read_csv('eolien'))) \\\n",
    "    .add_link(src='d', dest='c', cost=10, quantity=line)"
   ]
  },
  {
   "cell_type": "code",
   "execution_count": 4,
   "metadata": {},
   "outputs": [],
   "source": [
    "optimizer = hd.LPOptimizer()\n",
    "res = optimizer.solve(study)"
   ]
  },
  {
   "cell_type": "code",
   "execution_count": 5,
   "metadata": {},
   "outputs": [],
   "source": [
    "agg = hd.ResultAnalyzer(study, res)\n",
    "plot = hd.HTMLPlotting(agg=agg, unit_symbol='MW', time_start='2020-06-19', time_end='2020-06-27',\n",
    "                      node_coord={'a': [1.6264, 47.8842], 'b': [1.9061, 47.9118], 'c': [1.6175, 47.7097], 'd': [1.9314, 47.7090]})"
   ]
  },
  {
   "cell_type": "markdown",
   "metadata": {},
   "source": [
    "Let's start by a quick overview of adequacy by plotting a remain available capacity. Blue squares mean network as enough energy to sustain consumption. Red square mean network has a lack of adequacy."
   ]
  },
  {
   "cell_type": "code",
   "execution_count": 111,
   "metadata": {},
   "outputs": [],
   "source": [
    "from ipywidgets import widgets, interactive_output\n",
    "from IPython.display import display\n",
    "import plotly.graph_objects as go"
   ]
  },
  {
   "cell_type": "code",
   "execution_count": 88,
   "metadata": {},
   "outputs": [
    {
     "ename": "TypeError",
     "evalue": "map() missing 2 required positional arguments: 't' and 'zoom'",
     "output_type": "error",
     "traceback": [
      "\u001b[0;31m---------------------------------------------------------------------------\u001b[0m",
      "\u001b[0;31mTypeError\u001b[0m                                 Traceback (most recent call last)",
      "\u001b[0;32m<ipython-input-88-670b34cfcf6f>\u001b[0m in \u001b[0;36m<module>\u001b[0;34m\u001b[0m\n\u001b[0;32m----> 1\u001b[0;31m \u001b[0mplot\u001b[0m\u001b[0;34m.\u001b[0m\u001b[0mnetwork\u001b[0m\u001b[0;34m(\u001b[0m\u001b[0;34m)\u001b[0m\u001b[0;34m.\u001b[0m\u001b[0mmap\u001b[0m\u001b[0;34m(\u001b[0m\u001b[0;34m)\u001b[0m\u001b[0;34m\u001b[0m\u001b[0;34m\u001b[0m\u001b[0m\n\u001b[0m",
      "\u001b[0;31mTypeError\u001b[0m: map() missing 2 required positional arguments: 't' and 'zoom'"
     ]
    }
   ],
   "source": [
    "plot.network().map()"
   ]
  },
  {
   "cell_type": "code",
   "execution_count": 128,
   "metadata": {},
   "outputs": [],
   "source": [
    "def dashboard(plotting):\n",
    "    tabs = widgets.Tab()\n",
    "    container = Container(tabs, plotting)\n",
    "    nav = navbar(plotting.agg.study, container)\n",
    "    return widgets.VBox([nav, tabs])"
   ]
  },
  {
   "cell_type": "code",
   "execution_count": 131,
   "metadata": {},
   "outputs": [],
   "source": [
    "class Container:\n",
    "    def __init__(self, tabs: widgets, plotting):\n",
    "        self.tabs = tabs\n",
    "        self.plotting = plotting\n",
    "        self.update(nodes=None, types=None, names=None)\n",
    "    \n",
    "    def update(self, nodes, types, names):\n",
    "        if nodes is None:\n",
    "            self.network()\n",
    "    \n",
    "    def network(self):\n",
    "        self.tabs.children = [self.rac(), self.exchanges()]\n",
    "        self.tabs.set_title(0, 'RAC')\n",
    "        self.tabs.set_title(1, 'Exchange Map')\n",
    "        \n",
    "    def rac(self):\n",
    "        return go.FigureWidget(self.plotting.network().rac_matrix())\n",
    "    \n",
    "    def exchanges(self):\n",
    "        def changes(time, scn, zoom):\n",
    "            try:\n",
    "                display(go.FigureWidget(self.plotting.network().map(t=time, scn=scn, zoom=zoom)))\n",
    "            except ValueError:\n",
    "                pass\n",
    "        time = widgets.IntSlider(value=0, min=0, description='time', max=self.plotting.agg.horizon-1, continuous_update=False, disabled=False)\n",
    "        scn = widgets.IntSlider(value=0, min=0, decription='scn', max=self.plotting.agg.nb_scn-1, continuous_update=False, disabled=False)\n",
    "        zoom = widgets.FloatSlider(value=6, min=1, decription='zoom', max=10, disabled=False)\n",
    "        hbox = widgets.HBox([time, scn, zoom])\n",
    "        \n",
    "        inter = interactive_output(changes, {'time': time, 'scn': scn, 'zoom': zoom})\n",
    "        return widgets.VBox([hbox, inter])"
   ]
  },
  {
   "cell_type": "code",
   "execution_count": 132,
   "metadata": {
    "scrolled": false
   },
   "outputs": [
    {
     "data": {
      "application/vnd.jupyter.widget-view+json": {
       "model_id": "d7437afa16384c5997087f29eec31c9d",
       "version_major": 2,
       "version_minor": 0
      },
      "text/plain": [
       "VBox(children=(HBox(children=(Dropdown(description='Nodes', options=('All', 'a', 'b', 'c', 'd'), value='All'),…"
      ]
     },
     "metadata": {},
     "output_type": "display_data"
    }
   ],
   "source": [
    "dashboard(plot)"
   ]
  },
  {
   "cell_type": "code",
   "execution_count": 79,
   "metadata": {},
   "outputs": [],
   "source": [
    "w = go.FigureWidget()"
   ]
  },
  {
   "cell_type": "code",
   "execution_count": null,
   "metadata": {},
   "outputs": [],
   "source": []
  },
  {
   "cell_type": "code",
   "execution_count": 20,
   "metadata": {},
   "outputs": [],
   "source": [
    "def navbar(study: hd.Study, tabs: Container):\n",
    "    nodes = widgets.Dropdown(options=['All'] + list(study.nodes.keys()),\n",
    "                             value='All', description='Nodes', disabled=False)\n",
    "    types = widgets.Dropdown(options=['Node', 'Consumptions', 'Productions', 'Links'],\n",
    "                             value='Node', description='elements', disabled=True)\n",
    "    names = widgets.Dropdown(options=['None'], value='None', description='Names', disabled=True)\n",
    "    \n",
    "    def nodes_changes(state):\n",
    "        if state['name'] == 'value' and state['type'] == 'change':\n",
    "            if state['new'] == 'All':\n",
    "                types.disabled = True\n",
    "                names.disabled = True\n",
    "                tabs.update(nodes=None, types=None, names=None)\n",
    "            else:\n",
    "                types.disabled = False\n",
    "                types_changes(dict(name='value', type='change', new=types.value))    \n",
    "    nodes.observe(nodes_changes)\n",
    "    \n",
    "    def types_changes(state):\n",
    "        if state['name'] == 'value' and state['type'] == 'change':\n",
    "            if state['new'] == 'Node':\n",
    "                names.disabled = True\n",
    "                tabs.update(nodes=nodes.value, types=None, names=None)\n",
    "            else:\n",
    "                if state['new'] == 'Consumptions':\n",
    "                    el = [e.name for e in study.nodes[nodes.value].consumptions]\n",
    "                elif state['new'] == 'Productions':\n",
    "                    el = [e.name for e in study.nodes[nodes.value].productions]\n",
    "                elif state['new'] == 'Links':\n",
    "                    el = [e.name for e in study.nodes[nodes.value].links]\n",
    "                names.options = el\n",
    "                names.disabled = False\n",
    "                names_changes(dict(name='value', type='change', new=names.value))\n",
    "                \n",
    "    types.observe(types_changes)\n",
    "    \n",
    "    def names_changes(state):\n",
    "        if state['name'] == 'value' and state['type'] == 'change':\n",
    "            tabs.update(nodes=nodes.value, types=types.value, names=names.value)\n",
    "    names.observe(names_changes)\n",
    "                \n",
    "    return widgets.HBox([nodes, types, names])"
   ]
  },
  {
   "cell_type": "code",
   "execution_count": null,
   "metadata": {},
   "outputs": [],
   "source": []
  }
 ],
 "metadata": {
  "kernelspec": {
   "display_name": "Python 3",
   "language": "python",
   "name": "python3"
  },
  "language_info": {
   "codemirror_mode": {
    "name": "ipython",
    "version": 3
   },
   "file_extension": ".py",
   "mimetype": "text/x-python",
   "name": "python",
   "nbconvert_exporter": "python",
   "pygments_lexer": "ipython3",
   "version": "3.7.6"
  }
 },
 "nbformat": 4,
 "nbformat_minor": 4
}
