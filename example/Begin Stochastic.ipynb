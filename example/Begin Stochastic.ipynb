{
 "cells": [
  {
   "cell_type": "markdown",
   "metadata": {},
   "source": [
    "Except where otherwise noted, this content is Copyright (c) 2020, [RTE](https://www.rte-france.com) and licensed under a [CC-BY-4.0 license](https://creativecommons.org/licenses/by/4.0/). <img src=\"https://mirrors.creativecommons.org/presskit/buttons/80x15/png/by.png\" width=\"100px\">"
   ]
  },
  {
   "cell_type": "markdown",
   "metadata": {},
   "source": [
    "To understand, what is dashboard, [Begin Stochastic](https://www.hadar-simulator.org/tutorial/?name=Begin%20Stochastic) is refactored with it. Go to the bottom of notebook to see dashboard."
   ]
  },
  {
   "cell_type": "markdown",
   "metadata": {},
   "source": [
    "<img src=\"figure.png\" width=\"70%\">"
   ]
  },
  {
   "cell_type": "markdown",
   "metadata": {},
   "source": [
    "We use data generated in the next topic [Workflow](https://www.hadar-simulator.org/tutorial?name=Workflow). Input data representes 10 scenarios with different load and eolien productions. There are also random faults for nuclear and gas. These 10 scenarios are unique. They are 10 random sampling on the *God function* to try to predict more widely network adequacy"
   ]
  },
  {
   "cell_type": "code",
   "execution_count": 1,
   "metadata": {},
   "outputs": [],
   "source": [
    "import hadar as hd\n",
    "import numpy as np"
   ]
  },
  {
   "cell_type": "code",
   "execution_count": 2,
   "metadata": {},
   "outputs": [],
   "source": [
    "def read_csv(name):\n",
    "    return np.genfromtxt('%s.csv' % name, delimiter=' ').T"
   ]
  },
  {
   "cell_type": "code",
   "execution_count": 3,
   "metadata": {},
   "outputs": [],
   "source": [
    "line = 2000\n",
    "study = hd.Study(horizon=168, nb_scn=10)\\\n",
    "    .network()\\\n",
    "        .node('a')\\\n",
    "            .consumption(name='load', cost=10**6, quantity=read_csv('load_A'))\\\n",
    "            .production(name='gas', cost=80, quantity=read_csv('gas'))\\\n",
    "        .node('b')\\\n",
    "            .consumption(name='load', cost=10**6, quantity=read_csv('load_B'))\\\n",
    "        .node('c')\\\n",
    "            .production(name='nuclear', cost=50, quantity=read_csv('nuclear'))\\\n",
    "        .node('d')\\\n",
    "            .consumption(name='load', cost=10**6, quantity=read_csv('load_D'))\\\n",
    "            .production(name='eolien', cost=20, quantity=read_csv('eolien'))\\\n",
    "        .link(src='a', dest='b', cost=5, quantity=line)\\\n",
    "        .link(src='b', dest='c', cost=5, quantity=line)\\\n",
    "        .link(src='c', dest='a', cost=5, quantity=line)\\\n",
    "        .link(src='c', dest='b', cost=10, quantity=line)\\\n",
    "        .link(src='c', dest='d', cost=10, quantity=line)\\\n",
    "        .link(src='d', dest='c', cost=10, quantity=line)\\\n",
    "    .build()"
   ]
  },
  {
   "cell_type": "code",
   "execution_count": 4,
   "metadata": {},
   "outputs": [],
   "source": [
    "optimizer = hd.LPOptimizer()\n",
    "res = optimizer.solve(study)"
   ]
  },
  {
   "cell_type": "code",
   "execution_count": 5,
   "metadata": {},
   "outputs": [],
   "source": [
    "agg = hd.ResultAnalyzer(study, res)\n",
    "plot = hd.HTMLPlotting(agg=agg, unit_symbol='MW', time_start='2020-06-19', time_end='2020-06-27',\n",
    "                      node_coord={'a': [1.6264, 47.8842], 'b': [1.9061, 47.9118], 'c': [1.6175, 47.7097], 'd': [1.9314, 47.7090]})"
   ]
  },
  {
   "cell_type": "markdown",
   "metadata": {},
   "source": [
    "## Dashboard"
   ]
  },
  {
   "cell_type": "code",
   "execution_count": 6,
   "metadata": {},
   "outputs": [],
   "source": [
    "from hadar_dashboard import dashboard"
   ]
  },
  {
   "cell_type": "code",
   "execution_count": 7,
   "metadata": {
    "scrolled": false
   },
   "outputs": [
    {
     "data": {
      "application/vnd.jupyter.widget-view+json": {
       "model_id": "5986ed33ab154972bc5ac3eb2d8b8ad4",
       "version_major": 2,
       "version_minor": 0
      },
      "text/plain": [
       "VBox(children=(HBox(children=(Dropdown(description='Networks', options=('default',), value='default'), Dropdow…"
      ]
     },
     "metadata": {},
     "output_type": "display_data"
    }
   ],
   "source": [
    "dashboard(plot)"
   ]
  },
  {
   "cell_type": "code",
   "execution_count": null,
   "metadata": {},
   "outputs": [],
   "source": []
  }
 ],
 "metadata": {
  "kernelspec": {
   "display_name": "Python 3",
   "language": "python",
   "name": "python3"
  },
  "language_info": {
   "codemirror_mode": {
    "name": "ipython",
    "version": 3
   },
   "file_extension": ".py",
   "mimetype": "text/x-python",
   "name": "python",
   "nbconvert_exporter": "python",
   "pygments_lexer": "ipython3",
   "version": "3.7.8"
  }
 },
 "nbformat": 4,
 "nbformat_minor": 4
}
