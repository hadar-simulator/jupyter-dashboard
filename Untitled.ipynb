{
 "cells": [
  {
   "cell_type": "code",
   "execution_count": null,
   "metadata": {},
   "outputs": [],
   "source": []
  },
  {
   "cell_type": "code",
   "execution_count": null,
   "metadata": {},
   "outputs": [],
   "source": []
  },
  {
   "cell_type": "code",
   "execution_count": 106,
   "metadata": {},
   "outputs": [],
   "source": [
    "import hadar as hd\n",
    "from ipywidgets import widget"
   ]
  },
  {
   "cell_type": "code",
   "execution_count": 15,
   "metadata": {},
   "outputs": [],
   "source": [
    "study = hd.Study(node_names=['fr', 'de'], horizon=1) \\\n",
    "    .add_on_node('fr', data=hd.Consumption(name='load', cost=1, quantity=1)) \\\n",
    "    .add_on_node('fr', data=hd.Consumption(name='car', cost=1, quantity=1)) \\\n",
    "    .add_on_node('fr', data=hd.Production(name='nuclear', cost=1, quantity=1)) \\\n",
    "    .add_on_node('de', data=hd.Consumption(name='load', cost=1, quantity=1)) \\\n",
    "    .add_on_node('de', data=hd.Production(name='eolien', cost=1, quantity=1)) \\\n",
    "    .add_on_node('de', data=hd.Production(name='coal', cost=1, quantity=1)) \\\n",
    "    .add_link(src='fr', dest='de', cost=1, quantity=1) \\\n",
    "    .add_link(src='de', dest='fr', cost=1, quantity=1)"
   ]
  },
  {
   "cell_type": "code",
   "execution_count": 129,
   "metadata": {},
   "outputs": [],
   "source": [
    "def dashboard(study: hd.Study):\n",
    "    tabs = widgets.Tab()\n",
    "    container = Container(tabs)\n",
    "    nav = navbar(study, container)\n",
    "    return widgets.VBox([nav, tabs])"
   ]
  },
  {
   "cell_type": "code",
   "execution_count": 134,
   "metadata": {},
   "outputs": [],
   "source": [
    "class Container:\n",
    "    def __init__(self, tabs: widgets):\n",
    "        self.tabs = tabs\n",
    "        self.update(nodes=None, types=None, names=None)\n",
    "    \n",
    "    def update(self, nodes, types, names):\n",
    "        print('container', nodes, types, names)\n",
    "    \n",
    "    def network(self):\n",
    "        self.tabs = "
   ]
  },
  {
   "cell_type": "code",
   "execution_count": 138,
   "metadata": {},
   "outputs": [
    {
     "name": "stdout",
     "output_type": "stream",
     "text": [
      "container None None None\n"
     ]
    },
    {
     "data": {
      "application/vnd.jupyter.widget-view+json": {
       "model_id": "5b92950a1069440e8bf80760d57be9b6",
       "version_major": 2,
       "version_minor": 0
      },
      "text/plain": [
       "VBox(children=(HBox(children=(Dropdown(description='Nodes', options=('All', 'fr', 'de'), value='All'), Dropdow…"
      ]
     },
     "metadata": {},
     "output_type": "display_data"
    }
   ],
   "source": [
    "dashboard(study)"
   ]
  },
  {
   "cell_type": "code",
   "execution_count": 136,
   "metadata": {},
   "outputs": [],
   "source": [
    "def navbar(study: hd.Study, tabs: Container):\n",
    "    nodes = widgets.Dropdown(options=['All'] + list(study.nodes.keys()),\n",
    "                             value='All', description='Nodes', disabled=False)\n",
    "    types = widgets.Dropdown(options=['Node', 'Consumptions', 'Productions', 'Links'],\n",
    "                             value='Node', description='elements', disabled=True)\n",
    "    names = widgets.Dropdown(options=['None'], value='None', description='Names', disabled=True)\n",
    "    \n",
    "    def nodes_changes(state):\n",
    "        if state['name'] == 'value' and state['type'] == 'change':\n",
    "            if state['new'] == 'All':\n",
    "                types.disabled = True\n",
    "                names.disabled = True\n",
    "                tabs.update(nodes=None, types=None, names=None)\n",
    "            else:\n",
    "                types.disabled = False\n",
    "                types_changes(dict(name='value', type='change', new=types.value))    \n",
    "    nodes.observe(nodes_changes)\n",
    "    \n",
    "    def types_changes(state):\n",
    "        if state['name'] == 'value' and state['type'] == 'change':\n",
    "            if state['new'] == 'Node':\n",
    "                names.disabled = True\n",
    "                tabs.update(nodes=nodes.value, types=None, names=None)\n",
    "            else:\n",
    "                if state['new'] == 'Consumptions':\n",
    "                    el = [e.name for e in study.nodes[nodes.value].consumptions]\n",
    "                elif state['new'] == 'Productions':\n",
    "                    el = [e.name for e in study.nodes[nodes.value].productions]\n",
    "                elif state['new'] == 'Links':\n",
    "                    el = [e.name for e in study.nodes[nodes.value].links]\n",
    "                names.options = el\n",
    "                names.disabled = False\n",
    "                names_changes(dict(name='value', type='change', new=names.value))\n",
    "                \n",
    "    types.observe(types_changes)\n",
    "    \n",
    "    def names_changes(state):\n",
    "        if state['name'] == 'value' and state['type'] == 'change':\n",
    "            tabs.update(nodes=nodes.value, types=types.value, names=names.value)\n",
    "    names.observe(names_changes)\n",
    "                \n",
    "    return widgets.HBox([nodes, types, names])"
   ]
  },
  {
   "cell_type": "code",
   "execution_count": 118,
   "metadata": {},
   "outputs": [
    {
     "data": {
      "application/vnd.jupyter.widget-view+json": {
       "model_id": "3bd30298ece341f1ae868e86ef4c57b6",
       "version_major": 2,
       "version_minor": 0
      },
      "text/plain": [
       "VBox(children=(HBox(children=(Dropdown(description='Nodes', options=('None', 'fr', 'de'), value='None'), Dropd…"
      ]
     },
     "metadata": {},
     "output_type": "display_data"
    }
   ],
   "source": []
  },
  {
   "cell_type": "code",
   "execution_count": 102,
   "metadata": {},
   "outputs": [
    {
     "data": {
      "application/vnd.jupyter.widget-view+json": {
       "model_id": "577dd1c8c7bb4ba3a92fb8fedc24e01f",
       "version_major": 2,
       "version_minor": 0
      },
      "text/plain": [
       "Tab(children=(Text(value='', description='P0'), Text(value='', description='P1'), Text(value='', description='…"
      ]
     },
     "metadata": {},
     "output_type": "display_data"
    }
   ],
   "source": [
    "\n",
    "tab_contents = ['P0', 'P1', 'P2', 'P3', 'P4']\n",
    "children = [widgets.Text(description=name) for name in tab_contents]\n",
    "tab = widgets.Tab()\n",
    "tab.children = children\n",
    "tab.titles = [str(i) for i in range(len(children))]\n",
    "tab"
   ]
  },
  {
   "cell_type": "code",
   "execution_count": 3,
   "metadata": {},
   "outputs": [
    {
     "data": {
      "application/vnd.jupyter.widget-view+json": {
       "model_id": "ae3331b8c98849a7837c769e99459521",
       "version_major": 2,
       "version_minor": 0
      },
      "text/plain": [
       "Select(description='OS:', index=2, options=('Linux', 'Windows', 'OSX'), value='OSX')"
      ]
     },
     "metadata": {},
     "output_type": "display_data"
    }
   ],
   "source": [
    "widgets.Select(\n",
    "    options=['Linux', 'Windows', 'OSX'],\n",
    "    value='OSX',\n",
    "    # rows=10,\n",
    "    description='OS:',\n",
    "    disabled=False\n",
    ")"
   ]
  },
  {
   "cell_type": "code",
   "execution_count": 4,
   "metadata": {},
   "outputs": [
    {
     "data": {
      "application/vnd.jupyter.widget-view+json": {
       "model_id": "10ea6ea0db5247069929aa154c46c27d",
       "version_major": 2,
       "version_minor": 0
      },
      "text/plain": [
       "Box(children=(Label(value='Pizza topping with a very long label:'), RadioButtons(layout=Layout(width='max-cont…"
      ]
     },
     "metadata": {},
     "output_type": "display_data"
    }
   ],
   "source": [
    "widgets.Box(\n",
    "    [\n",
    "        widgets.Label(value='Pizza topping with a very long label:'),\n",
    "        widgets.RadioButtons(\n",
    "            options=[\n",
    "                'pepperoni',\n",
    "                'pineapple',\n",
    "                'anchovies',\n",
    "                'and the long name that will fit fine and the long name that will fit fine and the long name that will fit fine '\n",
    "            ],\n",
    "            layout={'width': 'max-content'}\n",
    "        )\n",
    "    ]\n",
    ")"
   ]
  },
  {
   "cell_type": "code",
   "execution_count": 5,
   "metadata": {},
   "outputs": [
    {
     "data": {
      "application/vnd.jupyter.widget-view+json": {
       "model_id": "e6a4dbbc815d42c98310707da7851c52",
       "version_major": 2,
       "version_minor": 0
      },
      "text/plain": [
       "Combobox(value='', description='Combobox:', ensure_option=True, options=('Paul', 'John', 'George', 'Ringo'), p…"
      ]
     },
     "metadata": {},
     "output_type": "display_data"
    }
   ],
   "source": [
    "widgets.Combobox(\n",
    "    # value='John',\n",
    "    placeholder='Choose Someone',\n",
    "    options=['Paul', 'John', 'George', 'Ringo'],\n",
    "    description='Combobox:',\n",
    "    ensure_option=True,\n",
    "    disabled=False\n",
    ")"
   ]
  },
  {
   "cell_type": "code",
   "execution_count": null,
   "metadata": {},
   "outputs": [],
   "source": []
  }
 ],
 "metadata": {
  "kernelspec": {
   "display_name": "Python 3",
   "language": "python",
   "name": "python3"
  },
  "language_info": {
   "codemirror_mode": {
    "name": "ipython",
    "version": 3
   },
   "file_extension": ".py",
   "mimetype": "text/x-python",
   "name": "python",
   "nbconvert_exporter": "python",
   "pygments_lexer": "ipython3",
   "version": "3.7.6"
  }
 },
 "nbformat": 4,
 "nbformat_minor": 4
}
